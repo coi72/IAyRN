{
  "nbformat": 4,
  "nbformat_minor": 0,
  "metadata": {
    "colab": {
      "provenance": [],
      "collapsed_sections": [],
      "authorship_tag": "ABX9TyOwRYCzfWRt86+a13skCSCC",
      "include_colab_link": true
    },
    "kernelspec": {
      "name": "python3",
      "display_name": "Python 3"
    },
    "language_info": {
      "name": "python"
    }
  },
  "cells": [
    {
      "cell_type": "markdown",
      "metadata": {
        "id": "view-in-github",
        "colab_type": "text"
      },
      "source": [
        "<a href=\"https://colab.research.google.com/github/coi72/IAyRN/blob/main/IA_Ejercicio1_CarlosJuarez_1906955.ipynb\" target=\"_parent\"><img src=\"https://colab.research.google.com/assets/colab-badge.svg\" alt=\"Open In Colab\"/></a>"
      ]
    },
    {
      "cell_type": "code",
      "execution_count": 534,
      "metadata": {
        "id": "XbpsSULO73H0",
        "colab": {
          "base_uri": "https://localhost:8080/",
          "height": 36
        },
        "outputId": "5fc57cfd-4e11-4e83-bdbe-ad2efa332030"
      },
      "outputs": [
        {
          "output_type": "execute_result",
          "data": {
            "text/plain": [
              "'\\nACTIVIDAD 2 - EJERCICIOS EN PYTHON 1\\nNOMBRE: JUÁREZ ORTIZ CARLOS EDUARDO\\nMATRÍCULA: 1906955\\nHORA CLASE: LMV N1\\n'"
            ],
            "application/vnd.google.colaboratory.intrinsic+json": {
              "type": "string"
            }
          },
          "metadata": {},
          "execution_count": 534
        }
      ],
      "source": [
        "'''\n",
        "ACTIVIDAD 2 - EJERCICIOS EN PYTHON 1\n",
        "NOMBRE: JUÁREZ ORTIZ CARLOS EDUARDO\n",
        "MATRÍCULA: 1906955\n",
        "HORA CLASE: LMV N1\n",
        "'''"
      ]
    },
    {
      "cell_type": "code",
      "source": [
        "#EJERCICIO 1: Escribe un programa que le pida al usuario por su nombre y que lo salude con su nombre, excepto si se llama “Ana”, “Juan”, y “Pedro”. \n",
        "name = input(\"Introduzca su nombre para continuar: \")\n",
        "if (name == \"Ana\" or name == \"Juan\" or name == \"Pedro\"):\n",
        "  print(\"¡Esto es Google Colab!\\n'\"\"¿Primera vez?\")\n",
        "else:\n",
        "  print('¡Hola de nuevo, {}!'.format(name))"
      ],
      "metadata": {
        "colab": {
          "base_uri": "https://localhost:8080/"
        },
        "id": "C7aPywDu-fZw",
        "outputId": "e2a76c09-a3d6-4ebe-b5d0-2ba24f8b5616"
      },
      "execution_count": 543,
      "outputs": [
        {
          "output_type": "stream",
          "name": "stdout",
          "text": [
            "Introduzca su nombre para continuar: Ana\n",
            "¡Esto es Google Colab!\n",
            "'¿Primera vez?\n"
          ]
        }
      ]
    },
    {
      "cell_type": "code",
      "source": [
        "\"\"#EJERCICIO 2: Escribe una función que regrese el último elemento de una lista y que revierta el orden de la lista e imprima la lista revertida. \n",
        "pc_stuff = [\"Teclado\", \"Mouse\", \"Monitor\", \"Audífonos\", \"Fuente de poder\"]\n",
        "def function():\n",
        "  print(\"El último elemento de la lista es \" + pc_stuff[-1])\n",
        "  stuff_pc = pc_stuff[::-1]\n",
        "  print(\"La lista invertida es \")\n",
        "  for x in (stuff_pc):\n",
        "    print(x)\n",
        "\n",
        "function()"
      ],
      "metadata": {
        "colab": {
          "base_uri": "https://localhost:8080/"
        },
        "id": "83UGD3s2tzHb",
        "outputId": "911cc0a6-484c-487e-d824-96ceb3c51930"
      },
      "execution_count": 544,
      "outputs": [
        {
          "output_type": "stream",
          "name": "stdout",
          "text": [
            "El último elemento de la lista es Fuente de poder\n",
            "La lista invertida es \n",
            "Fuente de poder\n",
            "Audífonos\n",
            "Monitor\n",
            "Mouse\n",
            "Teclado\n"
          ]
        }
      ]
    },
    {
      "cell_type": "code",
      "source": [
        "#EJERCICIO 3: Escribe una función que toma una lista de strings y los imprima línea por línea en un marco rectangular.\n",
        "lista = [\"Hola\", \"a\", \"todos\", \"esto\", \"es\", 'un', \"marco\"]\n",
        "def marco():\n",
        "  a = \"*\"\n",
        "  print(\"*\"*10)\n",
        "  print(a+lista[0]+\"    *\")\n",
        "  print(a+lista[1]+\"       *\")\n",
        "  print(a+lista[2]+\"   *\")\n",
        "  print(a+lista[3]+\"    *\")\n",
        "  print(a+lista[4]+\"      *\")\n",
        "  print(a+lista[5]+\"      *\")\n",
        "  print(a+lista[6]+\"   *\")\n",
        "  print(\"*\"*10)\n",
        "\n",
        "marco()"
      ],
      "metadata": {
        "colab": {
          "base_uri": "https://localhost:8080/"
        },
        "id": "ZldZ8Uy_AkMO",
        "outputId": "564c22dc-543c-408b-88ab-521eb7d9f2f3"
      },
      "execution_count": 541,
      "outputs": [
        {
          "output_type": "stream",
          "name": "stdout",
          "text": [
            "**********\n",
            "*Hola    *\n",
            "*a       *\n",
            "*todos   *\n",
            "*esto    *\n",
            "*es      *\n",
            "*un      *\n",
            "*marco   *\n",
            "**********\n"
          ]
        }
      ]
    }
  ]
}
